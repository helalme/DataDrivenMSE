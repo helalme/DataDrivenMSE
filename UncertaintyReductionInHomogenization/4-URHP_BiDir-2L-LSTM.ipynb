{
 "cells": [
  {
   "cell_type": "markdown",
   "metadata": {},
   "source": [
    "### Uncertainty reduction in homogenization problems, Part-4\n",
    "This notebook is similar to Part-2 w.r.t. traning and validation dataset, however, the LSTM model is not unidirectional, but it is bidirectional LSTM here. Moreover, unlike Pert-3, bidirectional LSTM here is with two layers. Lets compare predictions with one vs. two layers of bidirectional LSTM."
   ]
  },
  {
   "cell_type": "markdown",
   "metadata": {},
   "source": [
    "#### importing necessary modules"
   ]
  },
  {
   "cell_type": "code",
   "execution_count": 0,
   "metadata": {
    "colab": {
     "base_uri": "https://localhost:8080/",
     "height": 34
    },
    "colab_type": "code",
    "executionInfo": {
     "elapsed": 2323,
     "status": "ok",
     "timestamp": 1571830105984,
     "user": {
      "displayName": "Helal Chowdhury",
      "photoUrl": "",
      "userId": "17461430688373646004"
     },
     "user_tz": -120
    },
    "id": "0TI-X7BoRoQ7",
    "outputId": "c30b8f93-0dce-4055-fe23-ccc11a90a518"
   },
   "outputs": [
    {
     "name": "stdout",
     "output_type": "stream",
     "text": [
      "2.0.0\n"
     ]
    }
   ],
   "source": [
    "import tensorflow as tf\n",
    "import numpy as np\n",
    "import pandas as pd\n",
    "from tensorflow import keras\n",
    "import matplotlib.pyplot as plt\n",
    "print(tf.__version__)"
   ]
  },
  {
   "cell_type": "markdown",
   "metadata": {},
   "source": [
    "#### ETL process"
   ]
  },
  {
   "cell_type": "code",
   "execution_count": 0,
   "metadata": {
    "colab": {
     "base_uri": "https://localhost:8080/",
     "height": 74,
     "resources": {
      "http://localhost:8080/nbextensions/google.colab/files.js": {
       "data": "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",
       "headers": [
        [
         "content-type",
         "application/javascript"
        ]
       ],
       "ok": true,
       "status": 200,
       "status_text": ""
      }
     }
    },
    "colab_type": "code",
    "executionInfo": {
     "elapsed": 6590,
     "status": "ok",
     "timestamp": 1571830141135,
     "user": {
      "displayName": "Helal Chowdhury",
      "photoUrl": "",
      "userId": "17461430688373646004"
     },
     "user_tz": -120
    },
    "id": "lQo0H_YA9mJb",
    "outputId": "7eafb3b2-02e3-45ea-a7c1-5dde715be586"
   },
   "outputs": [
    {
     "data": {
      "text/html": [
       "\n",
       "     <input type=\"file\" id=\"files-4c1fa49e-5684-4de5-8a84-e40c129fb1b3\" name=\"files[]\" multiple disabled />\n",
       "     <output id=\"result-4c1fa49e-5684-4de5-8a84-e40c129fb1b3\">\n",
       "      Upload widget is only available when the cell has been executed in the\n",
       "      current browser session. Please rerun this cell to enable.\n",
       "      </output>\n",
       "      <script src=\"/nbextensions/google.colab/files.js\"></script> "
      ],
      "text/plain": [
       "<IPython.core.display.HTML object>"
      ]
     },
     "metadata": {
      "tags": []
     },
     "output_type": "display_data"
    },
    {
     "name": "stdout",
     "output_type": "stream",
     "text": [
      "Saving RVEsize-Homogenization2.txt to RVEsize-Homogenization2.txt\n"
     ]
    }
   ],
   "source": [
    "from google.colab import files\n",
    "import io\n",
    "uploaded = files.upload()"
   ]
  },
  {
   "cell_type": "code",
   "execution_count": 0,
   "metadata": {
    "colab": {
     "base_uri": "https://localhost:8080/",
     "height": 722
    },
    "colab_type": "code",
    "executionInfo": {
     "elapsed": 473,
     "status": "ok",
     "timestamp": 1571830151045,
     "user": {
      "displayName": "Helal Chowdhury",
      "photoUrl": "",
      "userId": "17461430688373646004"
     },
     "user_tz": -120
    },
    "id": "sEQa54DP_tOu",
    "outputId": "46914567-7099-4cdb-e9d7-79916d76b4d7"
   },
   "outputs": [
    {
     "data": {
      "text/plain": [
       "array([[-6.80145825e+01, -9.65273204e+01, -1.17443919e+02,\n",
       "        -1.33899836e+02, -1.47049385e+02, -1.57593846e+02,\n",
       "        -1.66056574e+02, -1.72849980e+02, -1.78303738e+02,\n",
       "        -1.82682202e+02, -1.48191922e+02, -1.13008813e+02,\n",
       "        -7.72693039e+01, -4.10833140e+01, -4.53871908e+00,\n",
       "         3.22937215e+01,  6.93572756e+01,  1.06606454e+02,\n",
       "         1.44004583e+02,  1.81522396e+02],\n",
       "       [-3.85728372e+01, -5.49696605e+01, -6.75108209e+01,\n",
       "        -7.80635725e+01, -8.73350760e+01, -9.56729234e+01,\n",
       "        -1.03271046e+02, -1.10247634e+02, -1.16681362e+02,\n",
       "        -1.22629082e+02, -9.01058811e+01, -5.71779755e+01,\n",
       "        -2.38770753e+01,  9.76832072e+00,  4.37326010e+01,\n",
       "         7.79922094e+01,  1.12525554e+02,  1.47312661e+02,\n",
       "         1.82335075e+02,  2.17575669e+02],\n",
       "       [-3.01645182e+01, -4.24959971e+01, -5.17744379e+01,\n",
       "        -5.94965060e+01, -6.62278128e+01, -7.22595870e+01,\n",
       "        -7.77656075e+01, -8.28585971e+01, -8.76157425e+01,\n",
       "        -9.20917255e+01, -5.82982513e+01, -2.42931169e+01,\n",
       "         9.90116280e+00,  4.42671268e+01,  7.87909101e+01,\n",
       "         1.13461358e+02,  1.48269068e+02,  1.83206352e+02,\n",
       "         2.18266220e+02,  2.53442698e+02],\n",
       "       [-2.29372278e+01, -3.22702133e+01, -3.92435865e+01,\n",
       "        -4.50476037e+01, -5.01266838e+01, -5.47012760e+01,\n",
       "        -5.88988089e+01, -6.28006302e+01, -6.64623979e+01,\n",
       "        -6.99241136e+01, -3.51816207e+01, -2.91889294e-01,\n",
       "         3.47271115e+01,  6.98609524e+01,  1.05098072e+02,\n",
       "         1.40428913e+02,  1.75845570e+02,  2.11341529e+02,\n",
       "         2.46911186e+02,  2.82549922e+02],\n",
       "       [-1.73896568e+01, -2.46148317e+01, -3.01721320e+01,\n",
       "        -3.48687743e+01, -3.90131096e+01, -4.27635134e+01,\n",
       "        -4.62146386e+01, -4.94285627e+01, -5.24485758e+01,\n",
       "        -5.53062450e+01, -1.99937367e+01,  1.54387787e+01,\n",
       "         5.09765871e+01,  8.66077783e+01,  1.22322597e+02,\n",
       "         1.58112883e+02,  1.93971778e+02,  2.29893405e+02,\n",
       "         2.65872707e+02,  3.01905458e+02],\n",
       "       [-1.41959259e+01, -2.00459467e+01, -2.45745464e+01,\n",
       "        -2.84406514e+01, -3.18842392e+01, -3.50242865e+01,\n",
       "        -3.79307404e+01, -4.06493522e+01, -4.32123005e+01,\n",
       "        -4.56433547e+01, -9.93606781e+00,  2.58705155e+01,\n",
       "         6.17648203e+01,  9.77373785e+01,  1.33780279e+02,\n",
       "         1.69886890e+02,  2.06051525e+02,  2.42269303e+02,\n",
       "         2.78536015e+02,  3.14847905e+02]])"
      ]
     },
     "execution_count": 3,
     "metadata": {
      "tags": []
     },
     "output_type": "execute_result"
    }
   ],
   "source": [
    "#Reading Dataset, input is cubic RVE size in oneDirection, output isAveraged sigma33 for 20 time steps\n",
    "dataset= np.loadtxt(io.BytesIO(uploaded['RVEsize-Homogenization2.txt'])) \n",
    "\n",
    "RVEsize =  dataset[0]\n",
    "series= dataset[1:]\n",
    "series = np.transpose(series)\n",
    "series"
   ]
  },
  {
   "cell_type": "markdown",
   "metadata": {},
   "source": [
    "#### Lets visualize the datasets"
   ]
  },
  {
   "cell_type": "code",
   "execution_count": 0,
   "metadata": {
    "colab": {
     "base_uri": "https://localhost:8080/",
     "height": 295
    },
    "colab_type": "code",
    "executionInfo": {
     "elapsed": 976,
     "status": "ok",
     "timestamp": 1571830169254,
     "user": {
      "displayName": "Helal Chowdhury",
      "photoUrl": "",
      "userId": "17461430688373646004"
     },
     "user_tz": -120
    },
    "id": "Hc_gXQMUJH2r",
    "outputId": "ebdc98fc-12fb-4764-b1f2-940c18fe754d"
   },
   "outputs": [
    {
     "data": {
      "image/png": "[encoded data removed]",
      "text/plain": [
       "<Figure size 432x288 with 1 Axes>"
      ]
     },
     "metadata": {
      "tags": []
     },
     "output_type": "display_data"
    }
   ],
   "source": [
    "time=range(0,200,10)\n",
    "plt.plot(time, series[0],  label='28.75')\n",
    "plt.plot(time, series[1],  label='48.75')\n",
    "plt.plot(time, series[2],  label='68.75')\n",
    "plt.plot(time, series[3],  label='88.75')\n",
    "plt.plot(time, series[4],  label='108.75')\n",
    "plt.plot(time, series[5],  label='128.75')\n",
    "plt.xlabel('Time (sec)')\n",
    "plt.ylabel('AvgSigma_33 (MPa)')\n",
    "plt.title('Training+test set')\n",
    "plt.legend()\n",
    "\n",
    "plt.show()"
   ]
  },
  {
   "cell_type": "markdown",
   "metadata": {
    "colab_type": "text",
    "id": "a_pwQl-s6j2i"
   },
   "source": [
    "#### prepare training Set for 2-to-1 bidirectional LSTM architecture"
   ]
  },
  {
   "cell_type": "code",
   "execution_count": 0,
   "metadata": {
    "colab": {
     "base_uri": "https://localhost:8080/",
     "height": 823
    },
    "colab_type": "code",
    "executionInfo": {
     "elapsed": 661,
     "status": "ok",
     "timestamp": 1571832447334,
     "user": {
      "displayName": "Helal Chowdhury",
      "photoUrl": "",
      "userId": "17461430688373646004"
     },
     "user_tz": -120
    },
    "id": "d1THNkMIlnvG",
    "outputId": "cd345d6c-bd59-4ef0-86ed-eee9860b7bdd"
   },
   "outputs": [
    {
     "name": "stdout",
     "output_type": "stream",
     "text": [
      "[[[-3.85728372e+01 -5.49696605e+01 -6.75108209e+01 -7.80635725e+01\n",
      "   -8.73350760e+01 -9.56729234e+01 -1.03271046e+02 -1.10247634e+02\n",
      "   -1.16681362e+02 -1.22629082e+02 -9.01058811e+01 -5.71779755e+01\n",
      "   -2.38770753e+01  9.76832072e+00  4.37326010e+01  7.79922094e+01\n",
      "    1.12525554e+02  1.47312661e+02  1.82335075e+02  2.17575669e+02]\n",
      "  [-3.01645182e+01 -4.24959971e+01 -5.17744379e+01 -5.94965060e+01\n",
      "   -6.62278128e+01 -7.22595870e+01 -7.77656075e+01 -8.28585971e+01\n",
      "   -8.76157425e+01 -9.20917255e+01 -5.82982513e+01 -2.42931169e+01\n",
      "    9.90116280e+00  4.42671268e+01  7.87909101e+01  1.13461358e+02\n",
      "    1.48269068e+02  1.83206352e+02  2.18266220e+02  2.53442698e+02]]\n",
      "\n",
      " [[-3.01645182e+01 -4.24959971e+01 -5.17744379e+01 -5.94965060e+01\n",
      "   -6.62278128e+01 -7.22595870e+01 -7.77656075e+01 -8.28585971e+01\n",
      "   -8.76157425e+01 -9.20917255e+01 -5.82982513e+01 -2.42931169e+01\n",
      "    9.90116280e+00  4.42671268e+01  7.87909101e+01  1.13461358e+02\n",
      "    1.48269068e+02  1.83206352e+02  2.18266220e+02  2.53442698e+02]\n",
      "  [-2.29372278e+01 -3.22702133e+01 -3.92435865e+01 -4.50476037e+01\n",
      "   -5.01266838e+01 -5.47012760e+01 -5.88988089e+01 -6.28006302e+01\n",
      "   -6.64623979e+01 -6.99241136e+01 -3.51816207e+01 -2.91889294e-01\n",
      "    3.47271115e+01  6.98609524e+01  1.05098072e+02  1.40428913e+02\n",
      "    1.75845570e+02  2.11341529e+02  2.46911186e+02  2.82549922e+02]]\n",
      "\n",
      " [[-2.29372278e+01 -3.22702133e+01 -3.92435865e+01 -4.50476037e+01\n",
      "   -5.01266838e+01 -5.47012760e+01 -5.88988089e+01 -6.28006302e+01\n",
      "   -6.64623979e+01 -6.99241136e+01 -3.51816207e+01 -2.91889294e-01\n",
      "    3.47271115e+01  6.98609524e+01  1.05098072e+02  1.40428913e+02\n",
      "    1.75845570e+02  2.11341529e+02  2.46911186e+02  2.82549922e+02]\n",
      "  [-1.73896568e+01 -2.46148317e+01 -3.01721320e+01 -3.48687743e+01\n",
      "   -3.90131096e+01 -4.27635134e+01 -4.62146386e+01 -4.94285627e+01\n",
      "   -5.24485758e+01 -5.53062450e+01 -1.99937367e+01  1.54387787e+01\n",
      "    5.09765871e+01  8.66077783e+01  1.22322597e+02  1.58112883e+02\n",
      "    1.93971778e+02  2.29893405e+02  2.65872707e+02  3.01905458e+02]]]\n",
      "[[-2.29372278e+01 -3.22702133e+01 -3.92435865e+01 -4.50476037e+01\n",
      "  -5.01266838e+01 -5.47012760e+01 -5.88988089e+01 -6.28006302e+01\n",
      "  -6.64623979e+01 -6.99241136e+01 -3.51816207e+01 -2.91889294e-01\n",
      "   3.47271115e+01  6.98609524e+01  1.05098072e+02  1.40428913e+02\n",
      "   1.75845570e+02  2.11341529e+02  2.46911186e+02  2.82549922e+02]\n",
      " [-1.73896568e+01 -2.46148317e+01 -3.01721320e+01 -3.48687743e+01\n",
      "  -3.90131096e+01 -4.27635134e+01 -4.62146386e+01 -4.94285627e+01\n",
      "  -5.24485758e+01 -5.53062450e+01 -1.99937367e+01  1.54387787e+01\n",
      "   5.09765871e+01  8.66077783e+01  1.22322597e+02  1.58112883e+02\n",
      "   1.93971778e+02  2.29893405e+02  2.65872707e+02  3.01905458e+02]\n",
      " [-1.41959259e+01 -2.00459467e+01 -2.45745464e+01 -2.84406514e+01\n",
      "  -3.18842392e+01 -3.50242865e+01 -3.79307404e+01 -4.06493522e+01\n",
      "  -4.32123005e+01 -4.56433547e+01 -9.93606781e+00  2.58705155e+01\n",
      "   6.17648203e+01  9.77373785e+01  1.33780279e+02  1.69886890e+02\n",
      "   2.06051525e+02  2.42269303e+02  2.78536015e+02  3.14847905e+02]]\n"
     ]
    },
    {
     "data": {
      "text/plain": [
       "(3, 2, 20)"
      ]
     },
     "execution_count": 33,
     "metadata": {
      "tags": []
     },
     "output_type": "execute_result"
    }
   ],
   "source": [
    "# series[0] training set e nile model training temon valo hoyna, tai bad deya hoise \n",
    "Xtrain=np.array([[series[1],series[2]],[series[2],series[3]],[series[3],series[4]]])\n",
    "Ytrain = np.array([series[3],series[4],series[5]])\n",
    "print(Xtrain)\n",
    "print(Ytrain)\n",
    "\n",
    "Xtrain.shape"
   ]
  },
  {
   "cell_type": "code",
   "execution_count": 0,
   "metadata": {
    "colab": {
     "base_uri": "https://localhost:8080/",
     "height": 34
    },
    "colab_type": "code",
    "executionInfo": {
     "elapsed": 463,
     "status": "ok",
     "timestamp": 1571832453396,
     "user": {
      "displayName": "Helal Chowdhury",
      "photoUrl": "",
      "userId": "17461430688373646004"
     },
     "user_tz": -120
    },
    "id": "KhVYmWqXRiE-",
    "outputId": "3d3d6e60-d033-414b-d255-4e75a01c9c2a"
   },
   "outputs": [
    {
     "data": {
      "text/plain": [
       "(3, 2, 20)"
      ]
     },
     "execution_count": 34,
     "metadata": {
      "tags": []
     },
     "output_type": "execute_result"
    }
   ],
   "source": [
    "Xtrain.shape"
   ]
  },
  {
   "cell_type": "markdown",
   "metadata": {},
   "source": [
    "#### Start training"
   ]
  },
  {
   "cell_type": "code",
   "execution_count": 0,
   "metadata": {
    "colab": {
     "base_uri": "https://localhost:8080/",
     "height": 1000
    },
    "colab_type": "code",
    "executionInfo": {
     "elapsed": 9745,
     "status": "ok",
     "timestamp": 1571832538080,
     "user": {
      "displayName": "Helal Chowdhury",
      "photoUrl": "",
      "userId": "17461430688373646004"
     },
     "user_tz": -120
    },
    "id": "clxW5d6QNJzR",
    "outputId": "e125ba4d-4755-4347-8484-33228cf08337"
   },
   "outputs": [
    {
     "name": "stdout",
     "output_type": "stream",
     "text": [
      "Train on 3 samples\n",
      "Epoch 1/1000\n",
      "3/3 [==============================] - 5s 2s/sample - loss: 18160.3398\n",
      "Epoch 2/1000\n",
      "3/3 [==============================] - 0s 8ms/sample - loss: 12202.9736\n",
      "Epoch 3/1000\n",
      "3/3 [==============================] - 0s 7ms/sample - loss: 5404.6387\n",
      "Epoch 4/1000\n",
      "3/3 [==============================] - 0s 7ms/sample - loss: 3449.3118\n",
      "Epoch 5/1000\n",
      "3/3 [==============================] - 0s 7ms/sample - loss: 968.7698\n",
      "Epoch 6/1000\n",
      "3/3 [==============================] - 0s 7ms/sample - loss: 731.7866\n",
      "Epoch 7/1000\n",
      "3/3 [==============================] - 0s 7ms/sample - loss: 1216.5055\n",
      "Epoch 8/1000\n",
      "3/3 [==============================] - 0s 7ms/sample - loss: 1243.7935\n",
      "Epoch 9/1000\n",
      "3/3 [==============================] - 0s 7ms/sample - loss: 970.5695\n",
      "Epoch 10/1000\n",
      "3/3 [==============================] - 0s 7ms/sample - loss: 766.7625\n",
      "Epoch 11/1000\n",
      "3/3 [==============================] - 0s 8ms/sample - loss: 606.8342\n",
      "Epoch 12/1000\n",
      "3/3 [==============================] - 0s 6ms/sample - loss: 428.4959\n",
      "Epoch 13/1000\n",
      "3/3 [==============================] - 0s 8ms/sample - loss: 376.2999\n",
      "Epoch 14/1000\n",
      "3/3 [==============================] - 0s 11ms/sample - loss: 310.5964\n",
      "Epoch 15/1000\n",
      "3/3 [==============================] - 0s 7ms/sample - loss: 317.4115\n",
      "Epoch 16/1000\n",
      "3/3 [==============================] - 0s 8ms/sample - loss: 242.2505\n",
      "Epoch 17/1000\n",
      "3/3 [==============================] - 0s 11ms/sample - loss: 240.6449\n",
      "Epoch 18/1000\n",
      "3/3 [==============================] - 0s 7ms/sample - loss: 206.7460\n",
      "Epoch 19/1000\n",
      "3/3 [==============================] - 0s 7ms/sample - loss: 151.9997\n",
      "Epoch 20/1000\n",
      "3/3 [==============================] - 0s 8ms/sample - loss: 138.2066\n",
      "Epoch 21/1000\n",
      "3/3 [==============================] - 0s 8ms/sample - loss: 130.5915\n",
      "Epoch 22/1000\n",
      "3/3 [==============================] - 0s 7ms/sample - loss: 128.4523\n",
      "Epoch 23/1000\n",
      "3/3 [==============================] - 0s 10ms/sample - loss: 137.3436\n",
      "Epoch 24/1000\n",
      "3/3 [==============================] - 0s 8ms/sample - loss: 122.0681\n",
      "Epoch 25/1000\n",
      "3/3 [==============================] - 0s 7ms/sample - loss: 118.1930\n",
      "Epoch 26/1000\n",
      "3/3 [==============================] - 0s 8ms/sample - loss: 108.6496\n",
      "Epoch 27/1000\n",
      "3/3 [==============================] - 0s 9ms/sample - loss: 84.9952\n",
      "Epoch 28/1000\n",
      "3/3 [==============================] - 0s 9ms/sample - loss: 78.8974\n",
      "Epoch 29/1000\n",
      "3/3 [==============================] - 0s 10ms/sample - loss: 75.1949\n",
      "Epoch 30/1000\n",
      "3/3 [==============================] - 0s 9ms/sample - loss: 74.8031\n",
      "Epoch 31/1000\n",
      "3/3 [==============================] - 0s 9ms/sample - loss: 79.1138\n",
      "Epoch 32/1000\n",
      "3/3 [==============================] - 0s 9ms/sample - loss: 74.7365\n",
      "Epoch 33/1000\n",
      "3/3 [==============================] - 0s 7ms/sample - loss: 74.1619\n",
      "Epoch 34/1000\n",
      "3/3 [==============================] - 0s 7ms/sample - loss: 72.7748\n",
      "Epoch 35/1000\n",
      "3/3 [==============================] - 0s 8ms/sample - loss: 69.4744\n",
      "Epoch 36/1000\n",
      "3/3 [==============================] - 0s 10ms/sample - loss: 69.6866\n",
      "Epoch 37/1000\n",
      "3/3 [==============================] - 0s 8ms/sample - loss: 63.4778\n",
      "Epoch 38/1000\n",
      "3/3 [==============================] - 0s 8ms/sample - loss: 60.0145\n",
      "Epoch 39/1000\n",
      "3/3 [==============================] - 0s 8ms/sample - loss: 59.6615\n",
      "Epoch 40/1000\n",
      "3/3 [==============================] - 0s 7ms/sample - loss: 57.0722\n",
      "Epoch 41/1000\n",
      "3/3 [==============================] - 0s 8ms/sample - loss: 59.0585\n",
      "Epoch 42/1000\n",
      "3/3 [==============================] - 0s 7ms/sample - loss: 57.3036\n",
      "Epoch 43/1000\n",
      "3/3 [==============================] - 0s 9ms/sample - loss: 54.5530\n",
      "Epoch 44/1000\n",
      "3/3 [==============================] - 0s 7ms/sample - loss: 54.2947\n",
      "Epoch 45/1000\n",
      "3/3 [==============================] - 0s 9ms/sample - loss: 51.3046\n",
      "Epoch 46/1000\n",
      "3/3 [==============================] - 0s 8ms/sample - loss: 50.2795\n",
      "Epoch 47/1000\n",
      "3/3 [==============================] - 0s 8ms/sample - loss: 50.1896\n",
      "Epoch 48/1000\n",
      "3/3 [==============================] - 0s 8ms/sample - loss: 47.2639\n",
      "Epoch 49/1000\n",
      "3/3 [==============================] - 0s 8ms/sample - loss: 46.9772\n",
      "Epoch 50/1000\n",
      "3/3 [==============================] - 0s 7ms/sample - loss: 44.4420\n",
      "Epoch 51/1000\n",
      "3/3 [==============================] - 0s 7ms/sample - loss: 41.5179\n",
      "Epoch 52/1000\n",
      "3/3 [==============================] - 0s 8ms/sample - loss: 41.4801\n",
      "Epoch 53/1000\n",
      "3/3 [==============================] - 0s 11ms/sample - loss: 38.3145\n",
      "Epoch 54/1000\n",
      "3/3 [==============================] - 0s 6ms/sample - loss: 37.5596\n",
      "Epoch 55/1000\n",
      "3/3 [==============================] - 0s 7ms/sample - loss: 35.5401\n",
      "Epoch 56/1000\n",
      "3/3 [==============================] - 0s 8ms/sample - loss: 33.2109\n",
      "Epoch 57/1000\n",
      "3/3 [==============================] - 0s 7ms/sample - loss: 31.4504\n",
      "Epoch 58/1000\n",
      "3/3 [==============================] - 0s 9ms/sample - loss: 29.5589\n",
      "Epoch 59/1000\n",
      "3/3 [==============================] - 0s 6ms/sample - loss: 27.8886\n",
      "Epoch 60/1000\n",
      "3/3 [==============================] - 0s 7ms/sample - loss: 25.6696\n",
      "Epoch 61/1000\n",
      "3/3 [==============================] - 0s 8ms/sample - loss: 24.5181\n",
      "Epoch 62/1000\n",
      "3/3 [==============================] - 0s 7ms/sample - loss: 22.2197\n",
      "Epoch 63/1000\n",
      "3/3 [==============================] - 0s 8ms/sample - loss: 21.6780\n",
      "Epoch 64/1000\n",
      "3/3 [==============================] - 0s 7ms/sample - loss: 19.1013\n",
      "Epoch 65/1000\n",
      "3/3 [==============================] - 0s 9ms/sample - loss: 17.9815\n",
      "Epoch 66/1000\n",
      "3/3 [==============================] - 0s 8ms/sample - loss: 15.9778\n",
      "Epoch 67/1000\n",
      "3/3 [==============================] - 0s 8ms/sample - loss: 14.7212\n",
      "Epoch 68/1000\n",
      "3/3 [==============================] - 0s 9ms/sample - loss: 79.0673\n",
      "Epoch 69/1000\n",
      "3/3 [==============================] - 0s 9ms/sample - loss: 56.6938\n",
      "Epoch 70/1000\n",
      "3/3 [==============================] - 0s 8ms/sample - loss: 37.5275\n",
      "Epoch 71/1000\n",
      "3/3 [==============================] - 0s 8ms/sample - loss: 28.0169\n",
      "Epoch 72/1000\n",
      "3/3 [==============================] - 0s 8ms/sample - loss: 38.7177\n",
      "Epoch 73/1000\n",
      "3/3 [==============================] - 0s 7ms/sample - loss: 26.9948\n",
      "Epoch 74/1000\n",
      "3/3 [==============================] - 0s 7ms/sample - loss: 28.9582\n",
      "Epoch 75/1000\n",
      "3/3 [==============================] - 0s 8ms/sample - loss: 20.3762\n",
      "Epoch 76/1000\n",
      "3/3 [==============================] - 0s 8ms/sample - loss: 30.3635\n",
      "Epoch 77/1000\n",
      "3/3 [==============================] - 0s 7ms/sample - loss: 24.7112\n",
      "Epoch 78/1000\n",
      "3/3 [==============================] - 0s 8ms/sample - loss: 23.1744\n",
      "Epoch 79/1000\n",
      "3/3 [==============================] - 0s 10ms/sample - loss: 15.8959\n",
      "Epoch 80/1000\n",
      "3/3 [==============================] - 0s 7ms/sample - loss: 11.1468\n",
      "Epoch 81/1000\n",
      "3/3 [==============================] - 0s 7ms/sample - loss: 13.4804\n",
      "Epoch 82/1000\n",
      "3/3 [==============================] - 0s 7ms/sample - loss: 11.0752\n",
      "Epoch 83/1000\n",
      "3/3 [==============================] - 0s 7ms/sample - loss: 13.6824\n",
      "Epoch 84/1000\n",
      "3/3 [==============================] - 0s 8ms/sample - loss: 7.8644\n",
      "Epoch 85/1000\n",
      "3/3 [==============================] - 0s 7ms/sample - loss: 10.4936\n",
      "Epoch 86/1000\n",
      "3/3 [==============================] - 0s 8ms/sample - loss: 7.5346\n",
      "Epoch 87/1000\n",
      "3/3 [==============================] - 0s 8ms/sample - loss: 9.2516\n",
      "Epoch 88/1000\n",
      "3/3 [==============================] - 0s 7ms/sample - loss: 7.3012\n",
      "Epoch 89/1000\n",
      "3/3 [==============================] - 0s 7ms/sample - loss: 4.8804\n",
      "Epoch 90/1000\n",
      "3/3 [==============================] - 0s 7ms/sample - loss: 4.9864\n",
      "Epoch 91/1000\n",
      "3/3 [==============================] - 0s 7ms/sample - loss: 3.2427\n",
      "Epoch 92/1000\n",
      "3/3 [==============================] - 0s 8ms/sample - loss: 44.6770\n",
      "Epoch 93/1000\n",
      "3/3 [==============================] - 0s 7ms/sample - loss: 9.1680\n",
      "Epoch 94/1000\n",
      "3/3 [==============================] - 0s 11ms/sample - loss: 11.2542\n",
      "Epoch 95/1000\n",
      "3/3 [==============================] - 0s 9ms/sample - loss: 121.1015\n",
      "Epoch 96/1000\n",
      "3/3 [==============================] - 0s 9ms/sample - loss: 9.1592\n",
      "Epoch 97/1000\n",
      "3/3 [==============================] - 0s 9ms/sample - loss: 7.4906\n",
      "Epoch 98/1000\n",
      "3/3 [==============================] - 0s 7ms/sample - loss: 9.9463\n",
      "Epoch 99/1000\n",
      "3/3 [==============================] - 0s 8ms/sample - loss: 7.2776\n",
      "Epoch 100/1000\n",
      "3/3 [==============================] - 0s 9ms/sample - loss: 8.7315\n",
      "Epoch 101/1000\n",
      "3/3 [==============================] - 0s 8ms/sample - loss: 8.2890\n",
      "Epoch 102/1000\n",
      "3/3 [==============================] - 0s 7ms/sample - loss: 10.3231\n",
      "Epoch 103/1000\n",
      "3/3 [==============================] - 0s 7ms/sample - loss: 9.0642\n",
      "Epoch 104/1000\n",
      "3/3 [==============================] - 0s 9ms/sample - loss: 7.6226\n",
      "Epoch 105/1000\n",
      "3/3 [==============================] - 0s 7ms/sample - loss: 5.0906\n",
      "Epoch 106/1000\n",
      "3/3 [==============================] - 0s 7ms/sample - loss: 4.4836\n",
      "Epoch 107/1000\n",
      "3/3 [==============================] - 0s 9ms/sample - loss: 3.4338\n",
      "Epoch 108/1000\n",
      "3/3 [==============================] - 0s 9ms/sample - loss: 3.3034\n",
      "Epoch 109/1000\n",
      "3/3 [==============================] - 0s 8ms/sample - loss: 2.0179\n",
      "Epoch 110/1000\n",
      "3/3 [==============================] - 0s 9ms/sample - loss: 2.2095\n",
      "Epoch 111/1000\n",
      "3/3 [==============================] - 0s 7ms/sample - loss: 1.5067\n",
      "Epoch 112/1000\n",
      "3/3 [==============================] - 0s 8ms/sample - loss: 1.8501\n",
      "Epoch 113/1000\n",
      "3/3 [==============================] - 0s 9ms/sample - loss: 1.2603\n",
      "Epoch 114/1000\n",
      "3/3 [==============================] - 0s 9ms/sample - loss: 1.4756\n",
      "Epoch 115/1000\n",
      "3/3 [==============================] - 0s 10ms/sample - loss: 1.4734\n",
      "Epoch 116/1000\n",
      "3/3 [==============================] - 0s 8ms/sample - loss: 1.3800\n",
      "Epoch 117/1000\n",
      "3/3 [==============================] - 0s 9ms/sample - loss: 0.8358\n",
      "Epoch 118/1000\n",
      "3/3 [==============================] - 0s 7ms/sample - loss: 0.5974\n",
      "Epoch 119/1000\n",
      "3/3 [==============================] - 0s 7ms/sample - loss: 0.7091\n",
      "Epoch 120/1000\n",
      "3/3 [==============================] - 0s 7ms/sample - loss: 0.7649\n",
      "Epoch 121/1000\n",
      "3/3 [==============================] - 0s 7ms/sample - loss: 0.6807\n",
      "Epoch 122/1000\n",
      "3/3 [==============================] - 0s 7ms/sample - loss: 0.4908\n",
      "Epoch 123/1000\n",
      "3/3 [==============================] - 0s 12ms/sample - loss: 0.4284\n",
      "Epoch 124/1000\n",
      "3/3 [==============================] - 0s 7ms/sample - loss: 0.3604\n",
      "Epoch 125/1000\n",
      "3/3 [==============================] - 0s 8ms/sample - loss: 0.3876\n",
      "Epoch 126/1000\n",
      "3/3 [==============================] - 0s 7ms/sample - loss: 0.4652\n",
      "Epoch 127/1000\n",
      "3/3 [==============================] - 0s 7ms/sample - loss: 0.4302\n",
      "Epoch 128/1000\n",
      "3/3 [==============================] - 0s 8ms/sample - loss: 0.3262\n",
      "Epoch 129/1000\n",
      "3/3 [==============================] - 0s 8ms/sample - loss: 0.1829\n",
      "Epoch 130/1000\n",
      "3/3 [==============================] - 0s 7ms/sample - loss: 0.2493\n",
      "Epoch 131/1000\n",
      "3/3 [==============================] - 0s 7ms/sample - loss: 0.2303\n",
      "Epoch 132/1000\n",
      "3/3 [==============================] - 0s 8ms/sample - loss: 0.2597\n",
      "Epoch 133/1000\n",
      "3/3 [==============================] - 0s 8ms/sample - loss: 0.1593\n",
      "Epoch 134/1000\n",
      "3/3 [==============================] - 0s 10ms/sample - loss: 0.1711\n",
      "Epoch 135/1000\n",
      "3/3 [==============================] - 0s 9ms/sample - loss: 0.1066\n",
      "Epoch 136/1000\n",
      "3/3 [==============================] - 0s 8ms/sample - loss: 0.1271\n",
      "Epoch 137/1000\n",
      "3/3 [==============================] - 0s 8ms/sample - loss: 0.1109\n",
      "Epoch 138/1000\n",
      "3/3 [==============================] - 0s 8ms/sample - loss: 0.1313\n",
      "Epoch 139/1000\n",
      "\n",
      "Reached expected accuracy level, so cancelling training!\n",
      "3/3 [==============================] - 0s 8ms/sample - loss: 0.0979\n"
     ]
    }
   ],
   "source": [
    "class myCallback(tf.keras.callbacks.Callback):\n",
    "  def on_epoch_end(self, epoch, logs={}):\n",
    "    if(logs.get('loss')<.1    ): #and logs.get('val_loss')<1\n",
    "      print(\"\\nReached expected accuracy level, so cancelling training!\")\n",
    "      self.model.stop_training = True\n",
    "      \n",
    "callbacks = myCallback()\n",
    "\n",
    "#Activation function use na korle model diverge kore\n",
    "model = tf.keras.Sequential([\n",
    "    tf.keras.layers.Bidirectional(tf.keras.layers.LSTM(32,activation='relu',  return_sequences=True, input_shape=(2, 20))),\n",
    "    tf.keras.layers.Bidirectional(tf.keras.layers.LSTM(32, activation='relu')),  \n",
    "    tf.keras.layers.Dense(units=20)\n",
    "])\n",
    "\n",
    "#model.summary()\n",
    "\n",
    "adamOptimizer=keras.optimizers.Adam(lr=2.5e-2, beta_1=0.9, beta_2=0.999, epsilon=1e-8)\n",
    "MSE='mean_squared_error'\n",
    "model.compile(optimizer=adamOptimizer, loss=MSE)\n",
    "history = model.fit(Xtrain, Ytrain, epochs=1000, callbacks=[callbacks]) "
   ]
  },
  {
   "cell_type": "markdown",
   "metadata": {},
   "source": [
    "#### Lets see the prediction at 148.75"
   ]
  },
  {
   "cell_type": "code",
   "execution_count": 0,
   "metadata": {
    "colab": {
     "base_uri": "https://localhost:8080/",
     "height": 295
    },
    "colab_type": "code",
    "executionInfo": {
     "elapsed": 1031,
     "status": "ok",
     "timestamp": 1571832586885,
     "user": {
      "displayName": "Helal Chowdhury",
      "photoUrl": "",
      "userId": "17461430688373646004"
     },
     "user_tz": -120
    },
    "id": "4wKmrHgDWjeD",
    "outputId": "59854518-573b-4f0d-a40b-f6fd33ef12ee"
   },
   "outputs": [
    {
     "data": {
      "image/png": "[encoded data removed]",
      "text/plain": [
       "<Figure size 432x288 with 1 Axes>"
      ]
     },
     "metadata": {
      "tags": []
     },
     "output_type": "display_data"
    }
   ],
   "source": [
    "x7ForPrediction=np.array([[series[4],series[5]]])\n",
    "pred148_75=model.predict(x7ForPrediction)\n",
    "\n",
    "x8ForPrediction=np.array([[series[5],pred148_75[0]]])\n",
    "pred168_75=model.predict(x8ForPrediction)\n",
    "\n",
    "time=range(0,200,10)\n",
    "\n",
    "plt.plot(time, series[4],  label='108.75')\n",
    "plt.plot(time, series[5],  label='128.75')\n",
    "plt.plot(time, pred148_75[0],  label='Pred148.75')  \n",
    "#plt.plot(time, pred168_75[0],  label='Pred168.75')\n",
    "\n",
    "plt.xlabel('Time (sec)')\n",
    "plt.ylabel('AvgSigma_33 (MPa)')\n",
    "plt.title('Training+prediction')\n",
    "plt.legend()\n",
    "\n",
    "plt.show()"
   ]
  },
  {
   "cell_type": "code",
   "execution_count": 0,
   "metadata": {
    "colab": {
     "base_uri": "https://localhost:8080/",
     "height": 101
    },
    "colab_type": "code",
    "executionInfo": {
     "elapsed": 813,
     "status": "ok",
     "timestamp": 1571832628540,
     "user": {
      "displayName": "Helal Chowdhury",
      "photoUrl": "",
      "userId": "17461430688373646004"
     },
     "user_tz": -120
    },
    "id": "4iRnfNZvchII",
    "outputId": "a54d1223-d96c-4939-fdd3-e6a191ea4323"
   },
   "outputs": [
    {
     "data": {
      "text/plain": [
       "array([[-11.6285715, -16.830263 , -20.855507 , -24.155651 , -26.992771 ,\n",
       "        -28.958544 , -31.670902 , -34.418774 , -36.65139  , -38.829556 ,\n",
       "         -2.914219 ,  32.837456 ,  69.30215  , 105.882835 , 141.06805  ,\n",
       "        178.04686  , 213.48874  , 250.71991  , 285.978    , 323.20132  ]],\n",
       "      dtype=float32)"
      ]
     },
     "execution_count": 41,
     "metadata": {
      "tags": []
     },
     "output_type": "execute_result"
    }
   ],
   "source": [
    "pred148_75\n"
   ]
  },
  {
   "cell_type": "code",
   "execution_count": 0,
   "metadata": {
    "colab": {
     "base_uri": "https://localhost:8080/",
     "height": 295
    },
    "colab_type": "code",
    "executionInfo": {
     "elapsed": 730,
     "status": "ok",
     "timestamp": 1571832642179,
     "user": {
      "displayName": "Helal Chowdhury",
      "photoUrl": "",
      "userId": "17461430688373646004"
     },
     "user_tz": -120
    },
    "id": "eSfV4pnQ8aAy",
    "outputId": "bd61fb52-c345-45ed-ea2e-e45eaea32853",
    "scrolled": true
   },
   "outputs": [
    {
     "data": {
      "image/png": "[encoded data removed]",
      "text/plain": [
       "<Figure size 432x288 with 1 Axes>"
      ]
     },
     "metadata": {
      "tags": []
     },
     "output_type": "display_data"
    }
   ],
   "source": [
    "loss = history.history['loss']\n",
    "#val_loss = history.history['val_loss']\n",
    "epochs = range(len(loss))\n",
    "\n",
    "plt.plot(epochs[0:], loss[0:],  label='Training Loss')\n",
    "#plt.plot(epochs[0:], val_loss[0:],  label='Validation Loss')\n",
    "plt.xlabel('Epochs')\n",
    "plt.ylabel('Loss')\n",
    "plt.title('Training loss')\n",
    "plt.legend()\n",
    "\n",
    "plt.show()"
   ]
  },
  {
   "cell_type": "markdown",
   "metadata": {},
   "source": [
    "#### Lets predict the next set, trained with the same model"
   ]
  },
  {
   "cell_type": "code",
   "execution_count": 0,
   "metadata": {
    "colab": {
     "base_uri": "https://localhost:8080/",
     "height": 1000
    },
    "colab_type": "code",
    "executionInfo": {
     "elapsed": 490,
     "status": "ok",
     "timestamp": 1571832862429,
     "user": {
      "displayName": "Helal Chowdhury",
      "photoUrl": "",
      "userId": "17461430688373646004"
     },
     "user_tz": -120
    },
    "id": "7_ukr51sElem",
    "outputId": "8b199723-a587-42a1-f2fc-b0a8796e65cb"
   },
   "outputs": [
    {
     "name": "stdout",
     "output_type": "stream",
     "text": [
      "[[[-3.85728372e+01 -5.49696605e+01 -6.75108209e+01 -7.80635725e+01\n",
      "   -8.73350760e+01 -9.56729234e+01 -1.03271046e+02 -1.10247634e+02\n",
      "   -1.16681362e+02 -1.22629082e+02 -9.01058811e+01 -5.71779755e+01\n",
      "   -2.38770753e+01  9.76832072e+00  4.37326010e+01  7.79922094e+01\n",
      "    1.12525554e+02  1.47312661e+02  1.82335075e+02  2.17575669e+02]\n",
      "  [-3.01645182e+01 -4.24959971e+01 -5.17744379e+01 -5.94965060e+01\n",
      "   -6.62278128e+01 -7.22595870e+01 -7.77656075e+01 -8.28585971e+01\n",
      "   -8.76157425e+01 -9.20917255e+01 -5.82982513e+01 -2.42931169e+01\n",
      "    9.90116280e+00  4.42671268e+01  7.87909101e+01  1.13461358e+02\n",
      "    1.48269068e+02  1.83206352e+02  2.18266220e+02  2.53442698e+02]]\n",
      "\n",
      " [[-3.01645182e+01 -4.24959971e+01 -5.17744379e+01 -5.94965060e+01\n",
      "   -6.62278128e+01 -7.22595870e+01 -7.77656075e+01 -8.28585971e+01\n",
      "   -8.76157425e+01 -9.20917255e+01 -5.82982513e+01 -2.42931169e+01\n",
      "    9.90116280e+00  4.42671268e+01  7.87909101e+01  1.13461358e+02\n",
      "    1.48269068e+02  1.83206352e+02  2.18266220e+02  2.53442698e+02]\n",
      "  [-2.29372278e+01 -3.22702133e+01 -3.92435865e+01 -4.50476037e+01\n",
      "   -5.01266838e+01 -5.47012760e+01 -5.88988089e+01 -6.28006302e+01\n",
      "   -6.64623979e+01 -6.99241136e+01 -3.51816207e+01 -2.91889294e-01\n",
      "    3.47271115e+01  6.98609524e+01  1.05098072e+02  1.40428913e+02\n",
      "    1.75845570e+02  2.11341529e+02  2.46911186e+02  2.82549922e+02]]\n",
      "\n",
      " [[-2.29372278e+01 -3.22702133e+01 -3.92435865e+01 -4.50476037e+01\n",
      "   -5.01266838e+01 -5.47012760e+01 -5.88988089e+01 -6.28006302e+01\n",
      "   -6.64623979e+01 -6.99241136e+01 -3.51816207e+01 -2.91889294e-01\n",
      "    3.47271115e+01  6.98609524e+01  1.05098072e+02  1.40428913e+02\n",
      "    1.75845570e+02  2.11341529e+02  2.46911186e+02  2.82549922e+02]\n",
      "  [-1.73896568e+01 -2.46148317e+01 -3.01721320e+01 -3.48687743e+01\n",
      "   -3.90131096e+01 -4.27635134e+01 -4.62146386e+01 -4.94285627e+01\n",
      "   -5.24485758e+01 -5.53062450e+01 -1.99937367e+01  1.54387787e+01\n",
      "    5.09765871e+01  8.66077783e+01  1.22322597e+02  1.58112883e+02\n",
      "    1.93971778e+02  2.29893405e+02  2.65872707e+02  3.01905458e+02]]\n",
      "\n",
      " [[-1.73896568e+01 -2.46148317e+01 -3.01721320e+01 -3.48687743e+01\n",
      "   -3.90131096e+01 -4.27635134e+01 -4.62146386e+01 -4.94285627e+01\n",
      "   -5.24485758e+01 -5.53062450e+01 -1.99937367e+01  1.54387787e+01\n",
      "    5.09765871e+01  8.66077783e+01  1.22322597e+02  1.58112883e+02\n",
      "    1.93971778e+02  2.29893405e+02  2.65872707e+02  3.01905458e+02]\n",
      "  [-1.41959259e+01 -2.00459467e+01 -2.45745464e+01 -2.84406514e+01\n",
      "   -3.18842392e+01 -3.50242865e+01 -3.79307404e+01 -4.06493522e+01\n",
      "   -4.32123005e+01 -4.56433547e+01 -9.93606781e+00  2.58705155e+01\n",
      "    6.17648203e+01  9.77373785e+01  1.33780279e+02  1.69886890e+02\n",
      "    2.06051525e+02  2.42269303e+02  2.78536015e+02  3.14847905e+02]]]\n",
      "[[-2.29372278e+01 -3.22702133e+01 -3.92435865e+01 -4.50476037e+01\n",
      "  -5.01266838e+01 -5.47012760e+01 -5.88988089e+01 -6.28006302e+01\n",
      "  -6.64623979e+01 -6.99241136e+01 -3.51816207e+01 -2.91889294e-01\n",
      "   3.47271115e+01  6.98609524e+01  1.05098072e+02  1.40428913e+02\n",
      "   1.75845570e+02  2.11341529e+02  2.46911186e+02  2.82549922e+02]\n",
      " [-1.73896568e+01 -2.46148317e+01 -3.01721320e+01 -3.48687743e+01\n",
      "  -3.90131096e+01 -4.27635134e+01 -4.62146386e+01 -4.94285627e+01\n",
      "  -5.24485758e+01 -5.53062450e+01 -1.99937367e+01  1.54387787e+01\n",
      "   5.09765871e+01  8.66077783e+01  1.22322597e+02  1.58112883e+02\n",
      "   1.93971778e+02  2.29893405e+02  2.65872707e+02  3.01905458e+02]\n",
      " [-1.41959259e+01 -2.00459467e+01 -2.45745464e+01 -2.84406514e+01\n",
      "  -3.18842392e+01 -3.50242865e+01 -3.79307404e+01 -4.06493522e+01\n",
      "  -4.32123005e+01 -4.56433547e+01 -9.93606781e+00  2.58705155e+01\n",
      "   6.17648203e+01  9.77373785e+01  1.33780279e+02  1.69886890e+02\n",
      "   2.06051525e+02  2.42269303e+02  2.78536015e+02  3.14847905e+02]\n",
      " [-1.16285715e+01 -1.68302631e+01 -2.08555069e+01 -2.41556511e+01\n",
      "  -2.69927711e+01 -2.89585438e+01 -3.16709023e+01 -3.44187737e+01\n",
      "  -3.66513901e+01 -3.88295555e+01 -2.91421890e+00  3.28374557e+01\n",
      "   6.93021469e+01  1.05882835e+02  1.41068054e+02  1.78046860e+02\n",
      "   2.13488739e+02  2.50719910e+02  2.85977997e+02  3.23201324e+02]]\n"
     ]
    }
   ],
   "source": [
    "Xtrain1=np.array([[series[1],series[2]],[series[2],series[3]],[series[3],series[4]],[series[4],series[5]]])\n",
    "Ytrain1 = np.array([series[3],series[4],series[5],pred148_75[0]])\n",
    "print(Xtrain1)\n",
    "print(Ytrain1)"
   ]
  },
  {
   "cell_type": "code",
   "execution_count": 0,
   "metadata": {
    "colab": {
     "base_uri": "https://localhost:8080/",
     "height": 1000
    },
    "colab_type": "code",
    "executionInfo": {
     "elapsed": 11844,
     "status": "ok",
     "timestamp": 1571833018105,
     "user": {
      "displayName": "Helal Chowdhury",
      "photoUrl": "",
      "userId": "17461430688373646004"
     },
     "user_tz": -120
    },
    "id": "BSWW_A5cyXQf",
    "outputId": "79fbb101-0219-4385-8cea-0f5c7d727666",
    "scrolled": true
   },
   "outputs": [
    {
     "name": "stdout",
     "output_type": "stream",
     "text": [
      "Train on 4 samples\n",
      "Epoch 1/1000\n",
      "4/4 [==============================] - 5s 1s/sample - loss: 16532.5898\n",
      "Epoch 2/1000\n",
      "4/4 [==============================] - 0s 6ms/sample - loss: 9851.3711\n",
      "Epoch 3/1000\n",
      "4/4 [==============================] - 0s 5ms/sample - loss: 4915.3613\n",
      "Epoch 4/1000\n",
      "4/4 [==============================] - 0s 5ms/sample - loss: 4092.8872\n",
      "Epoch 5/1000\n",
      "4/4 [==============================] - 0s 5ms/sample - loss: 3995.2729\n",
      "Epoch 6/1000\n",
      "4/4 [==============================] - 0s 5ms/sample - loss: 2665.3867\n",
      "Epoch 7/1000\n",
      "4/4 [==============================] - 0s 6ms/sample - loss: 5014.0405\n",
      "Epoch 8/1000\n",
      "4/4 [==============================] - 0s 6ms/sample - loss: 1252.2301\n",
      "Epoch 9/1000\n",
      "4/4 [==============================] - 0s 6ms/sample - loss: 1937.1512\n",
      "Epoch 10/1000\n",
      "4/4 [==============================] - 0s 7ms/sample - loss: 2009.2576\n",
      "Epoch 11/1000\n",
      "4/4 [==============================] - 0s 7ms/sample - loss: 1511.8590\n",
      "Epoch 12/1000\n",
      "4/4 [==============================] - 0s 7ms/sample - loss: 960.0552\n",
      "Epoch 13/1000\n",
      "4/4 [==============================] - 0s 6ms/sample - loss: 636.3719\n",
      "Epoch 14/1000\n",
      "4/4 [==============================] - 0s 5ms/sample - loss: 799.7452\n",
      "Epoch 15/1000\n",
      "4/4 [==============================] - 0s 5ms/sample - loss: 1622.2524\n",
      "Epoch 16/1000\n",
      "4/4 [==============================] - 0s 6ms/sample - loss: 998.9327\n",
      "Epoch 17/1000\n",
      "4/4 [==============================] - 0s 5ms/sample - loss: 946.0809\n",
      "Epoch 18/1000\n",
      "4/4 [==============================] - 0s 5ms/sample - loss: 686.6001\n",
      "Epoch 19/1000\n",
      "4/4 [==============================] - 0s 6ms/sample - loss: 581.4130\n",
      "Epoch 20/1000\n",
      "4/4 [==============================] - 0s 6ms/sample - loss: 336.3230\n",
      "Epoch 21/1000\n",
      "4/4 [==============================] - 0s 6ms/sample - loss: 282.9383\n",
      "Epoch 22/1000\n",
      "4/4 [==============================] - 0s 6ms/sample - loss: 286.8444\n",
      "Epoch 23/1000\n",
      "4/4 [==============================] - 0s 6ms/sample - loss: 296.5292\n",
      "Epoch 24/1000\n",
      "4/4 [==============================] - 0s 7ms/sample - loss: 384.7245\n",
      "Epoch 25/1000\n",
      "4/4 [==============================] - 0s 7ms/sample - loss: 411.8375\n",
      "Epoch 26/1000\n",
      "4/4 [==============================] - 0s 6ms/sample - loss: 367.1176\n",
      "Epoch 27/1000\n",
      "4/4 [==============================] - 0s 6ms/sample - loss: 348.7005\n",
      "Epoch 28/1000\n",
      "4/4 [==============================] - 0s 6ms/sample - loss: 276.9720\n",
      "Epoch 29/1000\n",
      "4/4 [==============================] - 0s 6ms/sample - loss: 223.2921\n",
      "Epoch 30/1000\n",
      "4/4 [==============================] - 0s 7ms/sample - loss: 211.3540\n",
      "Epoch 31/1000\n",
      "4/4 [==============================] - 0s 8ms/sample - loss: 167.1290\n",
      "Epoch 32/1000\n",
      "4/4 [==============================] - 0s 10ms/sample - loss: 170.7300\n",
      "Epoch 33/1000\n",
      "4/4 [==============================] - 0s 7ms/sample - loss: 168.9974\n",
      "Epoch 34/1000\n",
      "4/4 [==============================] - 0s 6ms/sample - loss: 151.9027\n",
      "Epoch 35/1000\n",
      "4/4 [==============================] - 0s 6ms/sample - loss: 158.9690\n",
      "Epoch 36/1000\n",
      "4/4 [==============================] - 0s 6ms/sample - loss: 136.1885\n",
      "Epoch 37/1000\n",
      "4/4 [==============================] - 0s 5ms/sample - loss: 142.7208\n",
      "Epoch 38/1000\n",
      "4/4 [==============================] - 0s 7ms/sample - loss: 146.1493\n",
      "Epoch 39/1000\n",
      "4/4 [==============================] - 0s 6ms/sample - loss: 145.2853\n",
      "Epoch 40/1000\n",
      "4/4 [==============================] - 0s 5ms/sample - loss: 150.7617\n",
      "Epoch 41/1000\n",
      "4/4 [==============================] - 0s 6ms/sample - loss: 131.9473\n",
      "Epoch 42/1000\n",
      "4/4 [==============================] - 0s 6ms/sample - loss: 130.1609\n",
      "Epoch 43/1000\n",
      "4/4 [==============================] - 0s 5ms/sample - loss: 115.5801\n",
      "Epoch 44/1000\n",
      "4/4 [==============================] - 0s 5ms/sample - loss: 114.8284\n",
      "Epoch 45/1000\n",
      "4/4 [==============================] - 0s 5ms/sample - loss: 107.7269\n",
      "Epoch 46/1000\n",
      "4/4 [==============================] - 0s 5ms/sample - loss: 101.6577\n",
      "Epoch 47/1000\n",
      "4/4 [==============================] - 0s 5ms/sample - loss: 98.5857\n",
      "Epoch 48/1000\n",
      "4/4 [==============================] - 0s 6ms/sample - loss: 92.8909\n",
      "Epoch 49/1000\n",
      "4/4 [==============================] - 0s 6ms/sample - loss: 96.3044\n",
      "Epoch 50/1000\n",
      "4/4 [==============================] - 0s 6ms/sample - loss: 92.8585\n",
      "Epoch 51/1000\n",
      "4/4 [==============================] - 0s 6ms/sample - loss: 97.1223\n",
      "Epoch 52/1000\n",
      "4/4 [==============================] - 0s 7ms/sample - loss: 93.5641\n",
      "Epoch 53/1000\n",
      "4/4 [==============================] - 0s 7ms/sample - loss: 95.7916\n",
      "Epoch 54/1000\n",
      "4/4 [==============================] - 0s 6ms/sample - loss: 91.1163\n",
      "Epoch 55/1000\n",
      "4/4 [==============================] - 0s 6ms/sample - loss: 90.1901\n",
      "Epoch 56/1000\n",
      "4/4 [==============================] - 0s 6ms/sample - loss: 85.0719\n",
      "Epoch 57/1000\n",
      "4/4 [==============================] - 0s 6ms/sample - loss: 83.8283\n",
      "Epoch 58/1000\n",
      "4/4 [==============================] - 0s 6ms/sample - loss: 80.9729\n",
      "Epoch 59/1000\n",
      "4/4 [==============================] - 0s 7ms/sample - loss: 80.6755\n",
      "Epoch 60/1000\n",
      "4/4 [==============================] - 0s 5ms/sample - loss: 78.6197\n",
      "Epoch 61/1000\n",
      "4/4 [==============================] - 0s 6ms/sample - loss: 77.5963\n",
      "Epoch 62/1000\n",
      "4/4 [==============================] - 0s 5ms/sample - loss: 75.3555\n",
      "Epoch 63/1000\n",
      "4/4 [==============================] - 0s 5ms/sample - loss: 74.4143\n",
      "Epoch 64/1000\n",
      "4/4 [==============================] - 0s 6ms/sample - loss: 73.0655\n",
      "Epoch 65/1000\n",
      "4/4 [==============================] - 0s 6ms/sample - loss: 72.9524\n",
      "Epoch 66/1000\n",
      "4/4 [==============================] - 0s 6ms/sample - loss: 71.9160\n",
      "Epoch 67/1000\n",
      "4/4 [==============================] - 0s 5ms/sample - loss: 71.3587\n",
      "Epoch 68/1000\n",
      "4/4 [==============================] - 0s 5ms/sample - loss: 69.4128\n",
      "Epoch 69/1000\n",
      "4/4 [==============================] - 0s 6ms/sample - loss: 68.2340\n",
      "Epoch 70/1000\n",
      "4/4 [==============================] - 0s 6ms/sample - loss: 66.2357\n",
      "Epoch 71/1000\n",
      "4/4 [==============================] - 0s 5ms/sample - loss: 65.3937\n",
      "Epoch 72/1000\n",
      "4/4 [==============================] - 0s 5ms/sample - loss: 63.5819\n",
      "Epoch 73/1000\n",
      "4/4 [==============================] - 0s 8ms/sample - loss: 62.5617\n",
      "Epoch 74/1000\n",
      "4/4 [==============================] - 0s 7ms/sample - loss: 60.5940\n",
      "Epoch 75/1000\n",
      "4/4 [==============================] - 0s 6ms/sample - loss: 59.5046\n",
      "Epoch 76/1000\n",
      "4/4 [==============================] - 0s 6ms/sample - loss: 57.7915\n",
      "Epoch 77/1000\n",
      "4/4 [==============================] - 0s 5ms/sample - loss: 56.7066\n",
      "Epoch 78/1000\n",
      "4/4 [==============================] - 0s 6ms/sample - loss: 55.1927\n",
      "Epoch 79/1000\n",
      "4/4 [==============================] - 0s 5ms/sample - loss: 54.0148\n",
      "Epoch 80/1000\n",
      "4/4 [==============================] - 0s 6ms/sample - loss: 52.6200\n",
      "Epoch 81/1000\n",
      "4/4 [==============================] - 0s 5ms/sample - loss: 51.0679\n",
      "Epoch 82/1000\n",
      "4/4 [==============================] - 0s 6ms/sample - loss: 49.4530\n",
      "Epoch 83/1000\n",
      "4/4 [==============================] - 0s 6ms/sample - loss: 47.5997\n",
      "Epoch 84/1000\n",
      "4/4 [==============================] - 0s 6ms/sample - loss: 46.0680\n",
      "Epoch 85/1000\n",
      "4/4 [==============================] - 0s 5ms/sample - loss: 44.2863\n",
      "Epoch 86/1000\n",
      "4/4 [==============================] - 0s 5ms/sample - loss: 42.7365\n",
      "Epoch 87/1000\n",
      "4/4 [==============================] - 0s 4ms/sample - loss: 40.9233\n",
      "Epoch 88/1000\n",
      "4/4 [==============================] - 0s 6ms/sample - loss: 39.2638\n",
      "Epoch 89/1000\n",
      "4/4 [==============================] - 0s 5ms/sample - loss: 37.5763\n",
      "Epoch 90/1000\n",
      "4/4 [==============================] - 0s 6ms/sample - loss: 35.9051\n",
      "Epoch 91/1000\n",
      "4/4 [==============================] - 0s 7ms/sample - loss: 34.3376\n",
      "Epoch 92/1000\n",
      "4/4 [==============================] - 0s 6ms/sample - loss: 32.6686\n",
      "Epoch 93/1000\n",
      "4/4 [==============================] - 0s 7ms/sample - loss: 31.1529\n",
      "Epoch 94/1000\n",
      "4/4 [==============================] - 0s 8ms/sample - loss: 29.5421\n",
      "Epoch 95/1000\n",
      "4/4 [==============================] - 0s 8ms/sample - loss: 28.0203\n",
      "Epoch 96/1000\n",
      "4/4 [==============================] - 0s 9ms/sample - loss: 26.5178\n",
      "Epoch 97/1000\n",
      "4/4 [==============================] - 0s 8ms/sample - loss: 25.0452\n",
      "Epoch 98/1000\n",
      "4/4 [==============================] - 0s 7ms/sample - loss: 23.7111\n",
      "Epoch 99/1000\n",
      "4/4 [==============================] - 0s 7ms/sample - loss: 22.3923\n",
      "Epoch 100/1000\n",
      "4/4 [==============================] - 0s 7ms/sample - loss: 21.2236\n",
      "Epoch 101/1000\n",
      "4/4 [==============================] - 0s 6ms/sample - loss: 20.1122\n",
      "Epoch 102/1000\n",
      "4/4 [==============================] - 0s 7ms/sample - loss: 19.0742\n",
      "Epoch 103/1000\n",
      "4/4 [==============================] - 0s 7ms/sample - loss: 18.1372\n",
      "Epoch 104/1000\n",
      "4/4 [==============================] - 0s 6ms/sample - loss: 17.2272\n",
      "Epoch 105/1000\n",
      "4/4 [==============================] - 0s 6ms/sample - loss: 16.4185\n",
      "Epoch 106/1000\n",
      "4/4 [==============================] - 0s 7ms/sample - loss: 15.6507\n",
      "Epoch 107/1000\n",
      "4/4 [==============================] - 0s 7ms/sample - loss: 14.9301\n",
      "Epoch 108/1000\n",
      "4/4 [==============================] - 0s 8ms/sample - loss: 14.2742\n",
      "Epoch 109/1000\n",
      "4/4 [==============================] - 0s 6ms/sample - loss: 13.6218\n",
      "Epoch 110/1000\n",
      "4/4 [==============================] - 0s 6ms/sample - loss: 13.0053\n",
      "Epoch 111/1000\n",
      "4/4 [==============================] - 0s 9ms/sample - loss: 12.4046\n",
      "Epoch 112/1000\n",
      "4/4 [==============================] - 0s 5ms/sample - loss: 11.8149\n",
      "Epoch 113/1000\n",
      "4/4 [==============================] - 0s 5ms/sample - loss: 11.2573\n",
      "Epoch 114/1000\n",
      "4/4 [==============================] - 0s 7ms/sample - loss: 10.6918\n",
      "Epoch 115/1000\n",
      "4/4 [==============================] - 0s 6ms/sample - loss: 10.1300\n",
      "Epoch 116/1000\n",
      "4/4 [==============================] - 0s 5ms/sample - loss: 9.5745\n",
      "Epoch 117/1000\n",
      "4/4 [==============================] - 0s 6ms/sample - loss: 9.0175\n",
      "Epoch 118/1000\n",
      "4/4 [==============================] - 0s 5ms/sample - loss: 8.4795\n",
      "Epoch 119/1000\n",
      "4/4 [==============================] - 0s 7ms/sample - loss: 7.9543\n",
      "Epoch 120/1000\n",
      "4/4 [==============================] - 0s 7ms/sample - loss: 7.4459\n",
      "Epoch 121/1000\n",
      "4/4 [==============================] - 0s 5ms/sample - loss: 6.9651\n",
      "Epoch 122/1000\n",
      "4/4 [==============================] - 0s 7ms/sample - loss: 6.5064\n",
      "Epoch 123/1000\n",
      "4/4 [==============================] - 0s 5ms/sample - loss: 6.0788\n",
      "Epoch 124/1000\n",
      "4/4 [==============================] - 0s 6ms/sample - loss: 5.6828\n",
      "Epoch 125/1000\n",
      "4/4 [==============================] - 0s 5ms/sample - loss: 5.3105\n",
      "Epoch 126/1000\n",
      "4/4 [==============================] - 0s 5ms/sample - loss: 4.9659\n",
      "Epoch 127/1000\n",
      "4/4 [==============================] - 0s 5ms/sample - loss: 4.6439\n",
      "Epoch 128/1000\n",
      "4/4 [==============================] - 0s 6ms/sample - loss: 4.3404\n",
      "Epoch 129/1000\n",
      "4/4 [==============================] - 0s 5ms/sample - loss: 4.0587\n",
      "Epoch 130/1000\n",
      "4/4 [==============================] - 0s 6ms/sample - loss: 3.7937\n",
      "Epoch 131/1000\n",
      "4/4 [==============================] - 0s 6ms/sample - loss: 3.5427\n",
      "Epoch 132/1000\n",
      "4/4 [==============================] - 0s 6ms/sample - loss: 3.3081\n",
      "Epoch 133/1000\n",
      "4/4 [==============================] - 0s 6ms/sample - loss: 3.0861\n",
      "Epoch 134/1000\n",
      "4/4 [==============================] - 0s 6ms/sample - loss: 2.8758\n",
      "Epoch 135/1000\n",
      "4/4 [==============================] - 0s 7ms/sample - loss: 2.6789\n",
      "Epoch 136/1000\n",
      "4/4 [==============================] - 0s 7ms/sample - loss: 2.4931\n",
      "Epoch 137/1000\n",
      "4/4 [==============================] - 0s 7ms/sample - loss: 2.3192\n",
      "Epoch 138/1000\n",
      "4/4 [==============================] - 0s 7ms/sample - loss: 2.1568\n",
      "Epoch 139/1000\n",
      "4/4 [==============================] - 0s 6ms/sample - loss: 2.0043\n",
      "Epoch 140/1000\n",
      "4/4 [==============================] - 0s 6ms/sample - loss: 1.8625\n",
      "Epoch 141/1000\n",
      "4/4 [==============================] - 0s 6ms/sample - loss: 1.7320\n",
      "Epoch 142/1000\n",
      "4/4 [==============================] - 0s 7ms/sample - loss: 1.6098\n",
      "Epoch 143/1000\n",
      "4/4 [==============================] - 0s 6ms/sample - loss: 1.4954\n",
      "Epoch 144/1000\n",
      "4/4 [==============================] - 0s 5ms/sample - loss: 1.3905\n",
      "Epoch 145/1000\n",
      "4/4 [==============================] - 0s 5ms/sample - loss: 1.2939\n",
      "Epoch 146/1000\n",
      "4/4 [==============================] - 0s 6ms/sample - loss: 1.2040\n",
      "Epoch 147/1000\n",
      "4/4 [==============================] - 0s 6ms/sample - loss: 1.1209\n",
      "Epoch 148/1000\n",
      "4/4 [==============================] - 0s 5ms/sample - loss: 1.0442\n",
      "Epoch 149/1000\n",
      "4/4 [==============================] - 0s 6ms/sample - loss: 0.9723\n",
      "Epoch 150/1000\n",
      "4/4 [==============================] - 0s 6ms/sample - loss: 0.9052\n",
      "Epoch 151/1000\n",
      "4/4 [==============================] - 0s 6ms/sample - loss: 0.8430\n",
      "Epoch 152/1000\n",
      "4/4 [==============================] - 0s 8ms/sample - loss: 0.7850\n",
      "Epoch 153/1000\n",
      "4/4 [==============================] - 0s 6ms/sample - loss: 0.7304\n",
      "Epoch 154/1000\n",
      "4/4 [==============================] - 0s 5ms/sample - loss: 0.6794\n",
      "Epoch 155/1000\n",
      "4/4 [==============================] - 0s 5ms/sample - loss: 0.6317\n",
      "Epoch 156/1000\n",
      "4/4 [==============================] - 0s 8ms/sample - loss: 0.5871\n",
      "Epoch 157/1000\n",
      "4/4 [==============================] - 0s 6ms/sample - loss: 0.5457\n",
      "Epoch 158/1000\n",
      "4/4 [==============================] - 0s 6ms/sample - loss: 0.5074\n",
      "Epoch 159/1000\n",
      "4/4 [==============================] - 0s 5ms/sample - loss: 0.4719\n",
      "Epoch 160/1000\n",
      "4/4 [==============================] - 0s 6ms/sample - loss: 0.4390\n",
      "Epoch 161/1000\n",
      "4/4 [==============================] - 0s 6ms/sample - loss: 0.4088\n",
      "Epoch 162/1000\n",
      "4/4 [==============================] - 0s 6ms/sample - loss: 0.3811\n",
      "Epoch 163/1000\n",
      "4/4 [==============================] - 0s 6ms/sample - loss: 0.3556\n",
      "Epoch 164/1000\n",
      "4/4 [==============================] - 0s 6ms/sample - loss: 0.3322\n",
      "Epoch 165/1000\n",
      "4/4 [==============================] - 0s 5ms/sample - loss: 0.3109\n",
      "Epoch 166/1000\n",
      "4/4 [==============================] - 0s 6ms/sample - loss: 0.2913\n",
      "Epoch 167/1000\n",
      "4/4 [==============================] - 0s 6ms/sample - loss: 0.2734\n",
      "Epoch 168/1000\n",
      "4/4 [==============================] - 0s 5ms/sample - loss: 0.2574\n",
      "Epoch 169/1000\n",
      "4/4 [==============================] - 0s 6ms/sample - loss: 0.2429\n",
      "Epoch 170/1000\n",
      "4/4 [==============================] - 0s 6ms/sample - loss: 0.2297\n",
      "Epoch 171/1000\n",
      "4/4 [==============================] - 0s 7ms/sample - loss: 0.2176\n",
      "Epoch 172/1000\n",
      "4/4 [==============================] - 0s 7ms/sample - loss: 0.2065\n",
      "Epoch 173/1000\n",
      "4/4 [==============================] - 0s 7ms/sample - loss: 0.1963\n",
      "Epoch 174/1000\n",
      "4/4 [==============================] - 0s 7ms/sample - loss: 0.1870\n",
      "Epoch 175/1000\n",
      "4/4 [==============================] - 0s 6ms/sample - loss: 0.1786\n",
      "Epoch 176/1000\n",
      "4/4 [==============================] - 0s 7ms/sample - loss: 0.1708\n",
      "Epoch 177/1000\n",
      "4/4 [==============================] - 0s 8ms/sample - loss: 0.1638\n",
      "Epoch 178/1000\n",
      "4/4 [==============================] - 0s 7ms/sample - loss: 0.1574\n",
      "Epoch 179/1000\n",
      "4/4 [==============================] - 0s 8ms/sample - loss: 0.1517\n",
      "Epoch 180/1000\n",
      "4/4 [==============================] - 0s 8ms/sample - loss: 0.1465\n",
      "Epoch 181/1000\n",
      "4/4 [==============================] - 0s 8ms/sample - loss: 0.1418\n",
      "Epoch 182/1000\n",
      "4/4 [==============================] - 0s 8ms/sample - loss: 0.1376\n",
      "Epoch 183/1000\n",
      "4/4 [==============================] - 0s 8ms/sample - loss: 0.1338\n",
      "Epoch 184/1000\n",
      "4/4 [==============================] - 0s 7ms/sample - loss: 0.1303\n",
      "Epoch 185/1000\n",
      "4/4 [==============================] - 0s 7ms/sample - loss: 0.1272\n",
      "Epoch 186/1000\n",
      "4/4 [==============================] - 0s 6ms/sample - loss: 0.1244\n",
      "Epoch 187/1000\n",
      "4/4 [==============================] - 0s 7ms/sample - loss: 0.1219\n",
      "Epoch 188/1000\n",
      "4/4 [==============================] - 0s 5ms/sample - loss: 0.1196\n",
      "Epoch 189/1000\n",
      "4/4 [==============================] - 0s 6ms/sample - loss: 0.1175\n",
      "Epoch 190/1000\n",
      "4/4 [==============================] - 0s 6ms/sample - loss: 0.1156\n",
      "Epoch 191/1000\n",
      "4/4 [==============================] - 0s 6ms/sample - loss: 0.1138\n",
      "Epoch 192/1000\n",
      "4/4 [==============================] - 0s 5ms/sample - loss: 0.1123\n",
      "Epoch 193/1000\n",
      "4/4 [==============================] - 0s 5ms/sample - loss: 0.1109\n",
      "Epoch 194/1000\n",
      "4/4 [==============================] - 0s 5ms/sample - loss: 0.1096\n",
      "Epoch 195/1000\n",
      "4/4 [==============================] - 0s 6ms/sample - loss: 0.1085\n",
      "Epoch 196/1000\n",
      "4/4 [==============================] - 0s 6ms/sample - loss: 0.1075\n",
      "Epoch 197/1000\n",
      "4/4 [==============================] - 0s 6ms/sample - loss: 0.1065\n",
      "Epoch 198/1000\n",
      "4/4 [==============================] - 0s 6ms/sample - loss: 0.1057\n",
      "Epoch 199/1000\n",
      "4/4 [==============================] - 0s 6ms/sample - loss: 0.1050\n",
      "Epoch 200/1000\n",
      "4/4 [==============================] - 0s 6ms/sample - loss: 0.1044\n",
      "Epoch 201/1000\n",
      "4/4 [==============================] - 0s 6ms/sample - loss: 0.1038\n",
      "Epoch 202/1000\n",
      "4/4 [==============================] - 0s 6ms/sample - loss: 0.1033\n",
      "Epoch 203/1000\n",
      "4/4 [==============================] - 0s 7ms/sample - loss: 0.1028\n",
      "Epoch 204/1000\n",
      "4/4 [==============================] - 0s 5ms/sample - loss: 0.1024\n",
      "Epoch 205/1000\n",
      "4/4 [==============================] - 0s 6ms/sample - loss: 0.1020\n",
      "Epoch 206/1000\n",
      "4/4 [==============================] - 0s 5ms/sample - loss: 0.1017\n",
      "Epoch 207/1000\n",
      "4/4 [==============================] - 0s 6ms/sample - loss: 0.1014\n",
      "Epoch 208/1000\n",
      "4/4 [==============================] - 0s 6ms/sample - loss: 0.1011\n",
      "Epoch 209/1000\n",
      "4/4 [==============================] - 0s 6ms/sample - loss: 0.1009\n",
      "Epoch 210/1000\n",
      "4/4 [==============================] - 0s 8ms/sample - loss: 0.1007\n",
      "Epoch 211/1000\n",
      "4/4 [==============================] - 0s 7ms/sample - loss: 0.1005\n",
      "Epoch 212/1000\n",
      "4/4 [==============================] - 0s 6ms/sample - loss: 0.1003\n",
      "Epoch 213/1000\n",
      "4/4 [==============================] - 0s 6ms/sample - loss: 0.1002\n",
      "Epoch 214/1000\n",
      "4/4 [==============================] - 0s 5ms/sample - loss: 0.1000\n",
      "Epoch 215/1000\n",
      "\n",
      "Reached expected accuracy level, so cancelling training!\n",
      "4/4 [==============================] - 0s 6ms/sample - loss: 0.0999\n"
     ]
    }
   ],
   "source": [
    "class myCallback(tf.keras.callbacks.Callback):\n",
    "  def on_epoch_end(self, epoch, logs={}):\n",
    "    if(logs.get('loss')<.1    ): #and logs.get('val_loss')<1\n",
    "      print(\"\\nReached expected accuracy level, so cancelling training!\")\n",
    "      self.model.stop_training = True\n",
    "      \n",
    "callbacks = myCallback()\n",
    "\n",
    "#Activation function use na korle model diverge kore\n",
    "model = tf.keras.Sequential([\n",
    "    tf.keras.layers.Bidirectional(tf.keras.layers.LSTM(32,activation='relu',  return_sequences=True, input_shape=(2, 20))),\n",
    "    tf.keras.layers.Bidirectional(tf.keras.layers.LSTM(32, activation='relu')),  #\n",
    "    tf.keras.layers.Dense(units=20)\n",
    "])\n",
    "\n",
    "#model.summary()\n",
    "\n",
    "adamOptimizer=keras.optimizers.Adam(lr=2.5e-2, beta_1=0.9, beta_2=0.999, epsilon=1e-8)\n",
    "MSE='mean_squared_error'\n",
    "model.compile(optimizer=adamOptimizer, loss=MSE)\n",
    "history = model.fit(Xtrain1, Ytrain1, epochs=1000, callbacks=[callbacks]) #, validation_data=(Xtest, Ytest)"
   ]
  },
  {
   "cell_type": "markdown",
   "metadata": {},
   "source": [
    "#### Lets see the prediction at 168.75"
   ]
  },
  {
   "cell_type": "code",
   "execution_count": 0,
   "metadata": {
    "colab": {
     "base_uri": "https://localhost:8080/",
     "height": 295
    },
    "colab_type": "code",
    "executionInfo": {
     "elapsed": 1752,
     "status": "ok",
     "timestamp": 1571833133106,
     "user": {
      "displayName": "Helal Chowdhury",
      "photoUrl": "",
      "userId": "17461430688373646004"
     },
     "user_tz": -120
    },
    "id": "zGAKgmAyzPQv",
    "outputId": "f234c8d3-e271-4e79-a580-1cee57f82662"
   },
   "outputs": [
    {
     "data": {
      "image/png": "[encoded data removed]",
      "text/plain": [
       "<Figure size 432x288 with 1 Axes>"
      ]
     },
     "metadata": {
      "tags": []
     },
     "output_type": "display_data"
    }
   ],
   "source": [
    "\n",
    "predx6=np.array([[series[5],pred148_75[0]]])\n",
    "pred168_75=model.predict(predx6)\n",
    "\n",
    "time=range(0,200,10)\n",
    "\n",
    "plt.plot(time, series[4],  label='108.75')\n",
    "plt.plot(time, series[5],  label='128.75')\n",
    "plt.plot(time, pred148_75[0],  label='Pred148.75')  \n",
    "plt.plot(time, pred168_75[0],  label='Pred168.75')\n",
    "#plt.plot(time, pred168_75[0],  label='Pred188.75')\n",
    "plt.xlabel('Time (sec)')\n",
    "plt.ylabel('AvgSigma_33 (MPa)')\n",
    "plt.title('Training+prediction')\n",
    "plt.legend()\n",
    "\n",
    "plt.show()"
   ]
  },
  {
   "cell_type": "code",
   "execution_count": 0,
   "metadata": {
    "colab": {
     "base_uri": "https://localhost:8080/",
     "height": 101
    },
    "colab_type": "code",
    "executionInfo": {
     "elapsed": 534,
     "status": "ok",
     "timestamp": 1571833192066,
     "user": {
      "displayName": "Helal Chowdhury",
      "photoUrl": "",
      "userId": "17461430688373646004"
     },
     "user_tz": -120
    },
    "id": "3iCZAs-ijvmE",
    "outputId": "3ccde72f-aea2-4588-86a0-806f477e22f1"
   },
   "outputs": [
    {
     "data": {
      "text/plain": [
       "array([[-11.430227 , -15.821242 , -19.471289 , -21.801062 , -24.7727   ,\n",
       "        -27.532629 , -30.552141 , -32.617916 , -36.369106 , -36.933613 ,\n",
       "         -1.6712118,  34.30515  ,  71.29924  , 108.6125   , 145.01543  ,\n",
       "        180.81339  , 217.68884  , 254.21786  , 290.5204   , 329.4842   ]],\n",
       "      dtype=float32)"
      ]
     },
     "execution_count": 46,
     "metadata": {
      "tags": []
     },
     "output_type": "execute_result"
    }
   ],
   "source": [
    "pred168_75"
   ]
  },
  {
   "cell_type": "code",
   "execution_count": 0,
   "metadata": {
    "colab": {
     "base_uri": "https://localhost:8080/",
     "height": 295
    },
    "colab_type": "code",
    "executionInfo": {
     "elapsed": 777,
     "status": "ok",
     "timestamp": 1571833531743,
     "user": {
      "displayName": "Helal Chowdhury",
      "photoUrl": "",
      "userId": "17461430688373646004"
     },
     "user_tz": -120
    },
    "id": "OGr5DVB_k_Ij",
    "outputId": "01088d06-7012-4a77-a715-e7cc6b823630"
   },
   "outputs": [
    {
     "data": {
      "image/png": "[encoded data removed]",
      "text/plain": [
       "<Figure size 432x288 with 1 Axes>"
      ]
     },
     "metadata": {
      "tags": []
     },
     "output_type": "display_data"
    }
   ],
   "source": [
    "loss = history.history['loss']\n",
    "epochs = range(len(loss))\n",
    "\n",
    "plt.plot(epochs[0:], loss[0:],  label='Training Loss')\n",
    "plt.xlabel('Epochs')\n",
    "plt.ylabel('Loss')\n",
    "plt.title('Training loss')\n",
    "plt.legend()\n",
    "\n",
    "plt.show()"
   ]
  },
  {
   "cell_type": "markdown",
   "metadata": {},
   "source": [
    "#### Lets compare the prediction at 168.75, one vs two layers of bidirectional LSTM"
   ]
  },
  {
   "cell_type": "code",
   "execution_count": 0,
   "metadata": {
    "colab": {
     "base_uri": "https://localhost:8080/",
     "height": 270
    },
    "colab_type": "code",
    "executionInfo": {
     "elapsed": 738,
     "status": "ok",
     "timestamp": 1571833878265,
     "user": {
      "displayName": "Helal Chowdhury",
      "photoUrl": "",
      "userId": "17461430688373646004"
     },
     "user_tz": -120
    },
    "id": "Qn8bG8IG8Ps-",
    "outputId": "f701d849-5e1d-4100-e1bb-b78ab9e5e367"
   },
   "outputs": [
    {
     "data": {
      "image/png": "[encoded data removed]",
      "text/plain": [
       "<Figure size 432x288 with 1 Axes>"
      ]
     },
     "metadata": {
      "tags": []
     },
     "output_type": "display_data"
    }
   ],
   "source": [
    "\n",
    "PrevPred168_75=[-10.436793, -14.661054, -18.945835, -22.045652, -24.69054 ,\n",
    "        -26.36137 , -28.917046, -30.474792, -32.16388 , -34.88139 ,\n",
    "          1.131721,  36.658592,  73.33767 , 109.10865 , 147.424   ,\n",
    "        183.00839 , 219.61954 , 256.5306  , 293.7165  , 330.88852 ] \n",
    "\n",
    "time=range(0,20,1)\n",
    "plt.plot(time, pred168_75[0],  label='2L-BLSTM_168.75')\n",
    "plt.plot(time, PrevPred168_75,  label='1L-BLSTM_168.75P2')\n",
    "plt.legend()\n",
    "plt.show()"
   ]
  },
  {
   "cell_type": "markdown",
   "metadata": {},
   "source": [
    "#### Now lets validate the predicted two last datasets ( at 128.75 and 148.75) with the simulated data"
   ]
  },
  {
   "cell_type": "code",
   "execution_count": 0,
   "metadata": {
    "colab": {
     "base_uri": "https://localhost:8080/",
     "height": 573
    },
    "colab_type": "code",
    "executionInfo": {
     "elapsed": 1554,
     "status": "ok",
     "timestamp": 1572010567711,
     "user": {
      "displayName": "Helal Chowdhury",
      "photoUrl": "",
      "userId": "17461430688373646004"
     },
     "user_tz": -120
    },
    "id": "AqjTgtYz_5mO",
    "outputId": "ea24f578-426b-4940-f74d-a503003cc4b7"
   },
   "outputs": [
    {
     "data": {
      "image/png": "[encoded data removed]",
      "text/plain": [
       "<Figure size 432x288 with 1 Axes>"
      ]
     },
     "metadata": {
      "tags": []
     },
     "output_type": "display_data"
    },
    {
     "data": {
      "image/png": "[encoded data removed]",
      "text/plain": [
       "<Figure size 432x288 with 1 Axes>"
      ]
     },
     "metadata": {
      "tags": []
     },
     "output_type": "display_data"
    }
   ],
   "source": [
    "\n",
    "import matplotlib.pyplot as plt\n",
    "\n",
    "P900g=[-14.418443, -19.39162, -24.110918, -27.865665, -31.204159, -34.44914,\n",
    "       -37.00009, -39.686928, -42.03942, -44.401447, -8.649324, 26.772243,\n",
    "       63.154934, 98.98916, 135.25005, 171.34344, 207.25742, 243.23119,\n",
    "       281.8138, 315.15497]\n",
    "R900g=[-14.19592589, -20.04594669, -24.57454637, -28.44065141, -31.88423916,\n",
    "       -35.0242865,  -37.93074036, -40.64935218, -43.21230054, -45.64335473,\n",
    "       -9.93606781, 25.87051547, 61.76482026, 97.73737847, 133.7802792,\n",
    "       169.8868897, 206.0515251, 242.2693029, 278.5360146, 314.8479048]\n",
    "\n",
    "P1400g=[-11.6285715, -16.830263 , -20.855507 , -24.155651 , -26.992771 ,\n",
    "        -28.958544 , -31.670902 , -34.418774 , -36.65139  , -38.829556 ,\n",
    "         -2.914219 ,  32.837456 ,  69.30215  , 105.882835 , 141.06805  ,\n",
    "        178.04686  , 213.48874  , 250.71991  , 285.978    , 323.20132  ] # From 4-RVEsize-HomogenizationWithBidirectionalBLSTM.ipynb\n",
    "R1400g=[-13.08679766,-18.37274692,-22.40742777,-25.80724604,-28.80342874,\n",
    "        -31.51329789,-34.00627858,-36.32759815,-38.50871291,-40.57254018,\n",
    "        -4.504763387,31.64949122,67.87951086,104.176631,140.5337272,176.944799,\n",
    "        213.4048686,249.9096494,286.4554296,323.0390073]\n",
    "\n",
    "time=range(0,200,10)\n",
    "plt.plot(time, P900g, 'o-', label='Pred_900g')\n",
    "plt.plot(time, R900g,  label='Real_900g')\n",
    "plt.legend()\n",
    "plt.xlabel('Time (sec)')\n",
    "plt.ylabel('AvgSigma_33 (MPa)')\n",
    "plt.title('Simulation vs. prediction')\n",
    "plt.legend()\n",
    "plt.show()\n",
    "\n",
    "plt.plot(time, P1400g, 'o-', label='Pred_1400g')\n",
    "plt.plot(time, R1400g,  label='Real_1400g')\n",
    "plt.legend()\n",
    "plt.xlabel('Time (sec)')\n",
    "plt.ylabel('AvgSigma_33 (MPa)')\n",
    "plt.title('Simulation vs. prediction')\n",
    "plt.legend()\n",
    "plt.show()"
   ]
  },
  {
   "cell_type": "markdown",
   "metadata": {},
   "source": [
    "#### So it is clear that, bidirectional LSTM is also a good choice for excellent prediction"
   ]
  },
  {
   "cell_type": "code",
   "execution_count": null,
   "metadata": {},
   "outputs": [],
   "source": []
  }
 ],
 "metadata": {
  "accelerator": "GPU",
  "colab": {
   "collapsed_sections": [],
   "name": "5-RVEsize-Homogenization20timeSteps.ipynb",
   "provenance": [
    {
     "file_id": "1fw-oUH_BDTbb_vuixK0m3PL6fEW5h7jv",
     "timestamp": 1571829437822
    },
    {
     "file_id": "1CCStZrbYqYnlpEJVa8-nehEkKF54pP7U",
     "timestamp": 1571744949546
    },
    {
     "file_id": "1U5iImDqKtZqiYZJv5na2nKKxZDne-g08",
     "timestamp": 1571671118401
    },
    {
     "file_id": "1RpGwXRPKLMVQA-dfoHzZgtDzV8MlGAXF",
     "timestamp": 1569310461996
    },
    {
     "file_id": "1Hare-Di889Jjsak3vnQOy2hjLHinzNBp",
     "timestamp": 1565077391992
    }
   ]
  },
  "kernelspec": {
   "display_name": "Python 3",
   "language": "python",
   "name": "python3"
  },
  "language_info": {
   "codemirror_mode": {
    "name": "ipython",
    "version": 3
   },
   "file_extension": ".py",
   "mimetype": "text/x-python",
   "name": "python",
   "nbconvert_exporter": "python",
   "pygments_lexer": "ipython3",
   "version": "3.7.4"
  }
 },
 "nbformat": 4,
 "nbformat_minor": 1
}
